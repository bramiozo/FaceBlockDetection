{
 "cells": [
  {
   "cell_type": "code",
   "execution_count": 47,
   "metadata": {},
   "outputs": [],
   "source": [
    "import pandas as pd\n",
    "import numpy as np\n",
    "import scipy as sc\n",
    "import os\n",
    "import sys\n",
    "from sklearn.preprocessing import LabelEncoder\n",
    "\n",
    "import matplotlib.pyplot as plt"
   ]
  },
  {
   "cell_type": "code",
   "execution_count": 3,
   "metadata": {},
   "outputs": [],
   "source": [
    "os.chdir('/media/bramiozo/DATA-FAST/kaggle/image_classification/MEDICAL/melanoma')"
   ]
  },
  {
   "cell_type": "code",
   "execution_count": 4,
   "metadata": {},
   "outputs": [],
   "source": [
    "meta = pd.read_csv('TRAINING_1024/meta_enriched.csv', sep=\";\")"
   ]
  },
  {
   "cell_type": "code",
   "execution_count": 6,
   "metadata": {},
   "outputs": [],
   "source": [
    "meta['filename'] = meta.filename.str.strip(\".jpg\")\n",
    "meta.loc[meta.sites=='oral/genital', 'sites'] = 'torso'\n",
    "meta['sites'] = meta.sites.str.replace(\"/\", \"\")"
   ]
  },
  {
   "cell_type": "code",
   "execution_count": 36,
   "metadata": {},
   "outputs": [],
   "source": [
    "encoder = LabelEncoder()\n",
    "encoder.fit(meta[~meta.sites.isna()].sites)\n",
    "meta.loc[~meta.sites.isna(), 'sites'] = encoder.transform(meta[~meta.sites.isna()].sites)\n",
    "\n",
    "encoder = LabelEncoder()\n",
    "encoder.fit(meta[~meta.sex.isna()].sex)\n",
    "meta.loc[~meta.sex.isna(), 'sex'] = encoder.transform(meta[~meta.sex.isna()].sex)\n",
    "\n",
    "meta.set_index('filename', inplace=True)\n",
    "\n",
    "meta['stretchiness'] = meta.width/meta.height"
   ]
  },
  {
   "cell_type": "code",
   "execution_count": 44,
   "metadata": {},
   "outputs": [],
   "source": [
    "meta.to_csv('meta_enriched_prepped.csv', sep=\";\")"
   ]
  }
 ],
 "metadata": {
  "kernelspec": {
   "display_name": "torch_image",
   "language": "python",
   "name": "torch_image"
  },
  "language_info": {
   "codemirror_mode": {
    "name": "ipython",
    "version": 3
   },
   "file_extension": ".py",
   "mimetype": "text/x-python",
   "name": "python",
   "nbconvert_exporter": "python",
   "pygments_lexer": "ipython3",
   "version": "3.8.2"
  }
 },
 "nbformat": 4,
 "nbformat_minor": 4
}
