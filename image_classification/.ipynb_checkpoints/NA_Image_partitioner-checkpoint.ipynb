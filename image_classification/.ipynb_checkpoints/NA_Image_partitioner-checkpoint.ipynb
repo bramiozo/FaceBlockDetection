{
 "cells": [
  {
   "cell_type": "markdown",
   "metadata": {},
   "source": [
    "Idea: \n",
    "1. scan the images, \n",
    "2. identify lesion with segmentation model or use centercrop of X\\%\n",
    "3. select equisized partially overlapping patches\n",
    "4. and write to disc as a separate image in order of the scan: IMGX -> IMGX_0.. etc. \n",
    "\n",
    "This can form the basis for a dedicated lower resolution scan model and also for future work on graph convolutional networks where the relative positions of the patches can play a role "
   ]
  }
 ],
 "metadata": {
  "kernelspec": {
   "display_name": "torch_image",
   "language": "python",
   "name": "torch_image"
  },
  "language_info": {
   "codemirror_mode": {
    "name": "ipython",
    "version": 3
   },
   "file_extension": ".py",
   "mimetype": "text/x-python",
   "name": "python",
   "nbconvert_exporter": "python",
   "pygments_lexer": "ipython3",
   "version": "3.8.2"
  }
 },
 "nbformat": 4,
 "nbformat_minor": 4
}
