{
 "cells": [
  {
   "cell_type": "code",
   "execution_count": 1,
   "metadata": {},
   "outputs": [],
   "source": [
    "import pandas as pd\n",
    "import numpy as np\n",
    "import os\n",
    "from collections import defaultdict"
   ]
  },
  {
   "cell_type": "code",
   "execution_count": 2,
   "metadata": {},
   "outputs": [],
   "source": [
    "root = '/media/bramiozo/DATA-FAST/kaggle/image_classification/MEDICAL/melanoma'\n",
    "os.chdir(root)  \n",
    "remove_nan = False"
   ]
  },
  {
   "cell_type": "code",
   "execution_count": 3,
   "metadata": {},
   "outputs": [],
   "source": [
    "meta_lumc = pd.read_csv('TRAINING/lumc_train_metadata.csv')\n",
    "meta_isic2019 = pd.read_csv('TRAINING/ISIC_2019_Training_Metadata.csv')\n",
    "meta_isic2020 = pd.read_csv('TRAINING/ISIC_2020_train.csv')"
   ]
  },
  {
   "cell_type": "code",
   "execution_count": 4,
   "metadata": {},
   "outputs": [],
   "source": [
    "groundtruth_isic2019 = pd.read_csv('TRAINING/ISIC_2019_Training_GroundTruth.csv')"
   ]
  },
  {
   "cell_type": "markdown",
   "metadata": {},
   "source": [
    "# targets"
   ]
  },
  {
   "cell_type": "code",
   "execution_count": 5,
   "metadata": {},
   "outputs": [],
   "source": [
    "meta_lumc.Diagnose\n",
    "map_sites = {_k:_k for _k in meta_lumc.Diagnose.unique()}\n",
    "map_sites['nv_mel'] = 'anv'\n",
    "map_sites['misc'] = np.nan\n",
    "meta_lumc['target'] = meta_lumc.Diagnose.map(map_sites)"
   ]
  },
  {
   "cell_type": "code",
   "execution_count": 6,
   "metadata": {},
   "outputs": [],
   "source": [
    "class_map = {'unknown': 'misc',\n",
    "             'melanoma': 'mel',\n",
    "             'seborrheic keratosis': 'bkl',\n",
    "             'lichenoid keratosis': 'bkl',\n",
    "             'lentigo NOS': 'bkl',\n",
    "             'cafe-au-lait macule': 'bkl',\n",
    "             'solar lentigo': 'bkl',\n",
    "             'nevus': 'nv',\n",
    "             'atypical melanocytic proliferation': 'anv'}\n",
    "\n",
    "meta_isic2020['target']  =  meta_isic2020.diagnosis.map(class_map)"
   ]
  },
  {
   "cell_type": "code",
   "execution_count": 7,
   "metadata": {},
   "outputs": [],
   "source": [
    "keys = {0: 'mel', 1: 'nv', 2: 'bcc', 3: 'akiec', 4: 'bkl', 5: 'df', 6: 'vasc', 7: 'scc', 8: 'misc'}\n",
    "def get_class(x):\n",
    "    for k, v in x.items():\n",
    "        if v == 1:\n",
    "            return k.lower()\n",
    "    \n",
    "groundtruth_isic2019['target'] = groundtruth_isic2019[['MEL', 'NV', 'BCC', 'AK', 'BKL', 'DF', 'VASC', 'SCC', 'UNK']].\\\n",
    "                            apply(lambda x: get_class(x), axis=1)"
   ]
  },
  {
   "cell_type": "code",
   "execution_count": 8,
   "metadata": {},
   "outputs": [],
   "source": [
    "meta_isic2019= meta_isic2019.merge(groundtruth_isic2019[['image', 'target']], how='left', left_on='image', right_on='image')"
   ]
  },
  {
   "cell_type": "markdown",
   "metadata": {},
   "source": [
    "## Add test meta"
   ]
  },
  {
   "cell_type": "code",
   "execution_count": 9,
   "metadata": {},
   "outputs": [],
   "source": [
    "test_isic2019 = pd.read_csv('TRAINING/ISIC_2019_Test_Metadata.csv')\n",
    "test_isic2020 = pd.read_csv('TRAINING/ISIC_2020_test.csv')\n",
    "test_isic2019['target'] = np.nan\n",
    "test_isic2020['target'] = np.nan"
   ]
  },
  {
   "cell_type": "code",
   "execution_count": 10,
   "metadata": {},
   "outputs": [],
   "source": [
    "meta_isic2019.drop('lesion_id', axis=1, inplace=True)\n",
    "meta_isic2020.drop(['diagnosis', 'benign_malignant'], axis=1, inplace=True)"
   ]
  },
  {
   "cell_type": "code",
   "execution_count": 11,
   "metadata": {},
   "outputs": [],
   "source": [
    "meta_isic2019 = pd.concat([meta_isic2019.copy(), test_isic2019], axis=0)\n",
    "meta_isic2020 = pd.concat([meta_isic2020.copy(), test_isic2020], axis=0)\n",
    "\n",
    "meta_isic2019.reset_index(drop=True, inplace=True)\n",
    "meta_isic2020.reset_index(drop=True, inplace=True)"
   ]
  },
  {
   "cell_type": "markdown",
   "metadata": {},
   "source": [
    "# Age, gender, sites"
   ]
  },
  {
   "cell_type": "code",
   "execution_count": 12,
   "metadata": {},
   "outputs": [],
   "source": [
    "gender_map = {'M': 'male', 'F': 'female'}\n",
    "meta_lumc['sex'] = meta_lumc.Geslacht.map(gender_map)"
   ]
  },
  {
   "cell_type": "code",
   "execution_count": 13,
   "metadata": {},
   "outputs": [],
   "source": [
    "meta_isic2020['age'] = pd.cut(meta_isic2020.age_approx,[-1, 17, 26, 35, 44, 53, 62, 71, 80, 120], labels=False)\n",
    "meta_isic2019['age'] = pd.cut(meta_isic2019.age_approx,[-1, 17, 26, 35, 44, 53, 62, 71, 80, 120], labels=False)\n",
    "meta_lumc.Leeftijdscategorie.unique()\n",
    "age_map = {'0-17':0, '18-26': 1, '27-35': 2, '36-44': 3, \n",
    "           '45-53': 4, '54-62': 5, '63-71': 6, '72-80': 7, \n",
    "           '81-100': 8}\n",
    "meta_lumc['age'] = meta_lumc.Leeftijdscategorie.map(age_map)"
   ]
  },
  {
   "cell_type": "code",
   "execution_count": 14,
   "metadata": {},
   "outputs": [
    {
     "data": {
      "text/plain": [
       "array(['head/neck', 'upper extremity', 'lower extremity', 'torso', nan,\n",
       "       'palms/soles', 'oral/genital'], dtype=object)"
      ]
     },
     "execution_count": 14,
     "metadata": {},
     "output_type": "execute_result"
    }
   ],
   "source": [
    "#anatom_site_general_challenge\n",
    "meta_isic2020.anatom_site_general_challenge.unique()"
   ]
  },
  {
   "cell_type": "code",
   "execution_count": 15,
   "metadata": {},
   "outputs": [
    {
     "data": {
      "text/plain": [
       "array(['anterior torso', 'upper extremity', 'posterior torso',\n",
       "       'lower extremity', nan, 'lateral torso', 'head/neck',\n",
       "       'palms/soles', 'oral/genital'], dtype=object)"
      ]
     },
     "execution_count": 15,
     "metadata": {},
     "output_type": "execute_result"
    }
   ],
   "source": [
    "meta_isic2019.anatom_site_general.unique()"
   ]
  },
  {
   "cell_type": "code",
   "execution_count": 16,
   "metadata": {},
   "outputs": [],
   "source": [
    "#map_sites = defaultdict(str)\n",
    "map_sites = {_k:_k for _k in meta_isic2019.anatom_site_general.unique()}\n",
    "map_sites['anterior torso'] = 'torso'\n",
    "map_sites['posterior torso'] = 'torso'\n",
    "map_sites['lateral torso'] = 'torso'\n",
    "meta_isic2019['sites'] = meta_isic2019.anatom_site_general.map(map_sites)\n",
    "\n",
    "meta_isic2020['sites'] = meta_isic2020.anatom_site_general_challenge"
   ]
  },
  {
   "cell_type": "code",
   "execution_count": 17,
   "metadata": {},
   "outputs": [],
   "source": [
    "map_sites = {'been': 'lower extremity', 'been | dermatoscopie': 'lower extremity',\n",
    "             'schouder': 'torso' , 'schouder | dermatoscopie': 'torso',\n",
    "             'borst': 'torso', 'borst | dermatoscopie': 'torso', \n",
    "             'buik': 'torso', 'buik | dermatoscopie': 'torso', \n",
    "             'arm': 'upper extremity', 'arm | dermatoscopie': 'upper extremity',\n",
    "             'rug': 'torso', 'rug | dermatoscopie': 'torso', 'dermatoscopie | rug': 'torso',\n",
    "             'behaarde hoofd': 'torso', 'behaarde hoofd | dermatoscopie': 'torso',\n",
    "             'hals': 'head/neck' ,'dermatoscopie | hals': 'head/neck',\n",
    "             'dermatoscopie | schouder': 'torso', 'dermatoscopie': 'torso',\n",
    "             'gelaat': 'head/neck', 'gelaat | dermatoscopie': 'head/neck',\n",
    "             'hals | dermatoscopie': 'head/neck', 'flank': 'torso', \n",
    "             'flank | dermatoscopie':'torso', 'voet': 'palms/soles',\n",
    "             'voet | dermatoscopie': 'palms/soles', 'dermatoscopie | voet': 'palms/soles',\n",
    "             'dermatoscopie | flank': 'torso',  'bil': 'torso', 'bil | dermatoscopie': 'torso'           \n",
    "            }\n",
    "meta_lumc['sites'] = meta_lumc.Trefwoord.map(map_sites)"
   ]
  },
  {
   "cell_type": "code",
   "execution_count": 18,
   "metadata": {},
   "outputs": [],
   "source": [
    "meta_lumc['filename'] = meta_lumc.Bestandsnummer.apply(lambda x: str(x)+'.jpg')\n",
    "meta_isic2020['filename'] = meta_isic2020.image_name.apply(lambda x: str(x)+'.jpg')\n",
    "meta_isic2019['filename'] = meta_isic2019.image.apply(lambda x: str(x)+'.jpg')\n",
    "\n",
    "meta_lumc['dataset'] = 'LUMC'\n",
    "meta_isic2020['dataset'] = 'ISIC2020'\n",
    "meta_isic2019['dataset'] = 'ISIC2019'"
   ]
  },
  {
   "cell_type": "code",
   "execution_count": 19,
   "metadata": {},
   "outputs": [],
   "source": [
    "final = pd.concat([meta_isic2019[['filename', 'sex', 'age', 'sites', 'target', 'dataset']],\n",
    "                   meta_isic2020[['filename', 'sex', 'age', 'sites', 'target', 'dataset']],\n",
    "                   meta_lumc[['filename', 'sex', 'age', 'sites', 'target', 'dataset']]], axis=0)\n",
    "\n",
    "if remove_nan:\n",
    "    final.dropna(subset=['filename', 'sites', 'age', 'sex'], axis=0, inplace=True)\n",
    "else:\n",
    "    from sklearn.impute import SimpleImputer\n",
    "    imp_mean = SimpleImputer(missing_values=np.nan, strategy='mean')\n",
    "    final[['age']] = imp_mean.fit_transform(final[['age']])\n",
    "\n",
    "final.age = final.age.astype(int)"
   ]
  },
  {
   "cell_type": "code",
   "execution_count": 20,
   "metadata": {},
   "outputs": [],
   "source": [
    "final.to_csv(\"ISIC_LUMC_META.csv\", sep=\";\", index=False)"
   ]
  }
 ],
 "metadata": {
  "kernelspec": {
   "display_name": "Python 3",
   "language": "python",
   "name": "python3"
  },
  "language_info": {
   "codemirror_mode": {
    "name": "ipython",
    "version": 3
   },
   "file_extension": ".py",
   "mimetype": "text/x-python",
   "name": "python",
   "nbconvert_exporter": "python",
   "pygments_lexer": "ipython3",
   "version": "3.8.2"
  }
 },
 "nbformat": 4,
 "nbformat_minor": 4
}
